{
  "nbformat": 4,
  "nbformat_minor": 0,
  "metadata": {
    "colab": {
      "provenance": [],
      "mount_file_id": "1-eLcLkqSg0bXjs3En3J-N6cDLWtKN1Ho",
      "authorship_tag": "ABX9TyOWprTfADgARcEaOZ0MM7wm",
      "include_colab_link": true
    },
    "kernelspec": {
      "name": "python3",
      "display_name": "Python 3"
    },
    "language_info": {
      "name": "python"
    }
  },
  "cells": [
    {
      "cell_type": "markdown",
      "metadata": {
        "id": "view-in-github",
        "colab_type": "text"
      },
      "source": [
        "<a href=\"https://colab.research.google.com/github/TheChar/ArduinoRepo/blob/master/Ergo_Lab_1.ipynb\" target=\"_parent\"><img src=\"https://colab.research.google.com/assets/colab-badge.svg\" alt=\"Open In Colab\"/></a>"
      ]
    },
    {
      "cell_type": "code",
      "execution_count": null,
      "metadata": {
        "id": "eNeH64E1tIVP"
      },
      "outputs": [],
      "source": [
        "import pandas as pd\n",
        "import scipy.stats as stats\n",
        "from scipy.stats import levene"
      ]
    },
    {
      "cell_type": "code",
      "source": [
        "scn_A = [73.3, 65.56, 70.36, 73.81, 77.78, 80.04, 76.42, 71.09, 74.32, 69.89,\n",
        "         84.88, 78.97, 82.84, 72.25, 80.7, 75.88, 85.02, 82.3, 79.84, 80.12 ]\n",
        "scn_B = [62.01, 54.17, 56.96, 59.77, 50.12, 54.88, 56.74, 52.34, 53.57, 58.92,\n",
        "         48.42, 49.19, 48.76, 44.01, 52.38, 49.49, 51.22, 47.91, 46.98, 48.62]\n",
        "scn_C = [33.02, 27.75, 28.82, 29.22, 24.88, 28.28, 27.93, 26.13, 29.87, 26.43,\n",
        "         26.67, 25, 25.45, 26.91, 25.17, 26.13, 28.98, 25.87, 27.75, 27.85]\n",
        "scn_D = [89.36, 79.43, 75.56, 73.47, 73.5, 75.87, 76.32, 78.5, 82.12, 79.45,\n",
        "         60.88, 63.03, 68.93, 60.38, 64.54, 74.87, 71.54, 68.96, 65.32, 54.39]\n"
      ],
      "metadata": {
        "id": "V9suKtTwuGwE"
      },
      "execution_count": null,
      "outputs": []
    },
    {
      "cell_type": "code",
      "source": [
        "stats.levene(scn_A, scn_B, center='mean')"
      ],
      "metadata": {
        "colab": {
          "base_uri": "https://localhost:8080/"
        },
        "id": "zwBfad_6xTyb",
        "outputId": "b399afc5-d6ec-4c1b-de3d-cb88fd5ca5e2"
      },
      "execution_count": null,
      "outputs": [
        {
          "output_type": "execute_result",
          "data": {
            "text/plain": [
              "LeveneResult(statistic=0.5410430467888944, pvalue=0.46651682336409417)"
            ]
          },
          "metadata": {},
          "execution_count": 25
        }
      ]
    },
    {
      "cell_type": "code",
      "source": [
        "stats.ttest_ind(a=scn_C, b=scn_D, equal_var= False)"
      ],
      "metadata": {
        "colab": {
          "base_uri": "https://localhost:8080/"
        },
        "id": "LMyMyKn33RZb",
        "outputId": "ecf2d714-6561-40db-eb2a-1a8cbfe7649a"
      },
      "execution_count": null,
      "outputs": [
        {
          "output_type": "execute_result",
          "data": {
            "text/plain": [
              "TtestResult(statistic=-22.670007190645954, pvalue=2.819128109348023e-16, df=21.05888406400114)"
            ]
          },
          "metadata": {},
          "execution_count": 18
        }
      ]
    },
    {
      "cell_type": "code",
      "source": [
        "import matplotlib.pyplot as plt\n",
        "import numpy as np\n",
        "\n",
        "scn_all = [scn_A, scn_B, scn_C, scn_D]\n",
        "\n",
        "plt.boxplot(scn_all, labels=['A','B','C','D']  )\n",
        "\n",
        "\n",
        "\n"
      ],
      "metadata": {
        "colab": {
          "base_uri": "https://localhost:8080/",
          "height": 933
        },
        "id": "mGyFuQzXy6rK",
        "outputId": "d06d7bb6-8bd1-450c-dc85-e4f6ffd94ddf"
      },
      "execution_count": null,
      "outputs": [
        {
          "output_type": "execute_result",
          "data": {
            "text/plain": [
              "{'whiskers': [<matplotlib.lines.Line2D at 0x7dab4aefd8a0>,\n",
              "  <matplotlib.lines.Line2D at 0x7dab4aefd660>,\n",
              "  <matplotlib.lines.Line2D at 0x7dab4aefebc0>,\n",
              "  <matplotlib.lines.Line2D at 0x7dab4aefe260>,\n",
              "  <matplotlib.lines.Line2D at 0x7dab4b1f6da0>,\n",
              "  <matplotlib.lines.Line2D at 0x7dab4b1f5f90>,\n",
              "  <matplotlib.lines.Line2D at 0x7dab4b22d1b0>,\n",
              "  <matplotlib.lines.Line2D at 0x7dab4b0c9750>],\n",
              " 'caps': [<matplotlib.lines.Line2D at 0x7dab4aeffe80>,\n",
              "  <matplotlib.lines.Line2D at 0x7dab4aefcf10>,\n",
              "  <matplotlib.lines.Line2D at 0x7dab4aefc5b0>,\n",
              "  <matplotlib.lines.Line2D at 0x7dab4aefdf00>,\n",
              "  <matplotlib.lines.Line2D at 0x7dab4b1f6d10>,\n",
              "  <matplotlib.lines.Line2D at 0x7dab4d670640>,\n",
              "  <matplotlib.lines.Line2D at 0x7dab4b0ca050>,\n",
              "  <matplotlib.lines.Line2D at 0x7dab4b0c88e0>],\n",
              " 'boxes': [<matplotlib.lines.Line2D at 0x7dab4aeff4c0>,\n",
              "  <matplotlib.lines.Line2D at 0x7dab4aefdba0>,\n",
              "  <matplotlib.lines.Line2D at 0x7dab4b1f62f0>,\n",
              "  <matplotlib.lines.Line2D at 0x7dab4b22e380>],\n",
              " 'medians': [<matplotlib.lines.Line2D at 0x7dab4aefe410>,\n",
              "  <matplotlib.lines.Line2D at 0x7dab4b1f4910>,\n",
              "  <matplotlib.lines.Line2D at 0x7dab4b22c940>,\n",
              "  <matplotlib.lines.Line2D at 0x7dab4b0cb820>],\n",
              " 'fliers': [<matplotlib.lines.Line2D at 0x7dab4aefc070>,\n",
              "  <matplotlib.lines.Line2D at 0x7dab4b1f7760>,\n",
              "  <matplotlib.lines.Line2D at 0x7dab4b22c280>,\n",
              "  <matplotlib.lines.Line2D at 0x7dab4b0c9120>],\n",
              " 'means': []}"
            ]
          },
          "metadata": {},
          "execution_count": 35
        },
        {
          "output_type": "display_data",
          "data": {
            "text/plain": [
              "<Figure size 640x480 with 1 Axes>"
            ],
            "image/png": "[encoded data removed]"
          },
          "metadata": {}
        }
      ]
    },
    {
      "cell_type": "code",
      "source": [
        "ER_A = [0,0,0,0,0,0,0,0,0,0,0,0,0,0,0,0,0,0,0,0]\n",
        "ER_B = [1,1,1,1,0,0,0,0,0,0,0,0,0,0,0,0,0,0,0,0]\n",
        "ER_C = [1,1,1,1,0,0,0,0,0,0,0,0,0,0,0,0,0,0,0,0]\n",
        "ER_D = [1,1,1,1,1,1,1,1,1,0,0,0,0,0,0,0,0,0,0,0]\n",
        "\n",
        "stats.ttest_ind(a=ER_B, b=ER_D)\n"
      ],
      "metadata": {
        "colab": {
          "base_uri": "https://localhost:8080/"
        },
        "id": "Ww2R8qGAzPKs",
        "outputId": "70dc22a7-5107-4c5a-e489-6ff3f15e01cf"
      },
      "execution_count": null,
      "outputs": [
        {
          "output_type": "execute_result",
          "data": {
            "text/plain": [
              "TtestResult(statistic=-1.70707657398485, pvalue=0.09596788318511233, df=38.0)"
            ]
          },
          "metadata": {},
          "execution_count": 26
        }
      ]
    }
  ]
}